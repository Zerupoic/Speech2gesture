{
 "cells": [
  {
   "cell_type": "code",
   "execution_count": 1,
   "metadata": {},
   "outputs": [],
   "source": [
    "import torch\n",
    "import torch.nn as nn\n",
    "import torch.nn.functional as F\n",
    "import tqdm\n",
    "\n",
    "from torch.autograd import Variable\n",
    "\n",
    "from speech2gesture import *\n",
    "from pats_master.data import Data\n",
    "from funcs import pos_to_motion\n",
    "\n",
    "MODEL_PATH = './save'\n",
    "lr = 10e-4\n",
    "n_epochs = 10\n",
    "lambda_d = 1.\n",
    "lambda_gan = 1."
   ]
  },
  {
   "cell_type": "code",
   "execution_count": 4,
   "metadata": {},
   "outputs": [
    {
     "name": "stderr",
     "output_type": "stream",
     "text": [
      "100%|██████████| 65/65 [00:33<00:00,  1.93it/s]\n",
      "100%|██████████| 9/9 [00:05<00:00,  1.58it/s]\n",
      "100%|██████████| 7/7 [00:04<00:00,  1.61it/s]\n"
     ]
    }
   ],
   "source": [
    "common_kwargs = dict(path2data = '../pats/data',\n",
    "                     speaker = ['lec_cosmic'],\n",
    "                     modalities = ['pose/data', 'audio/log_mel_512'],\n",
    "                     fs_new = [15, 15],\n",
    "                     batch_size = 4,\n",
    "                     window_hop = 5)\n",
    "\n",
    "dataloader = Data(**common_kwargs)"
   ]
  },
  {
   "cell_type": "code",
   "execution_count": 3,
   "metadata": {},
   "outputs": [
    {
     "ename": "NameError",
     "evalue": "name 'data' is not defined",
     "output_type": "error",
     "traceback": [
      "\u001b[0;31m---------------------------------------------------------------------------\u001b[0m",
      "\u001b[0;31mNameError\u001b[0m                                 Traceback (most recent call last)",
      "\u001b[0;32m<ipython-input-3-ab708ef04d25>\u001b[0m in \u001b[0;36m<module>\u001b[0;34m\u001b[0m\n\u001b[0;32m----> 1\u001b[0;31m \u001b[0;32mfor\u001b[0m \u001b[0mbatch\u001b[0m \u001b[0;32min\u001b[0m \u001b[0mdata\u001b[0m\u001b[0;34m.\u001b[0m\u001b[0mtrain\u001b[0m\u001b[0;34m:\u001b[0m\u001b[0;34m\u001b[0m\u001b[0;34m\u001b[0m\u001b[0m\n\u001b[0m\u001b[1;32m      2\u001b[0m     \u001b[0;32mbreak\u001b[0m\u001b[0;34m\u001b[0m\u001b[0;34m\u001b[0m\u001b[0m\n\u001b[1;32m      3\u001b[0m \u001b[0;34m\u001b[0m\u001b[0m\n\u001b[1;32m      4\u001b[0m \u001b[0;32mfor\u001b[0m \u001b[0mkey\u001b[0m \u001b[0;32min\u001b[0m \u001b[0mbatch\u001b[0m\u001b[0;34m.\u001b[0m\u001b[0mkeys\u001b[0m\u001b[0;34m(\u001b[0m\u001b[0;34m)\u001b[0m\u001b[0;34m:\u001b[0m\u001b[0;34m\u001b[0m\u001b[0;34m\u001b[0m\u001b[0m\n\u001b[1;32m      5\u001b[0m     \u001b[0;32mif\u001b[0m \u001b[0mkey\u001b[0m \u001b[0;34m!=\u001b[0m \u001b[0;34m'meta'\u001b[0m\u001b[0;34m:\u001b[0m\u001b[0;34m\u001b[0m\u001b[0;34m\u001b[0m\u001b[0m\n",
      "\u001b[0;31mNameError\u001b[0m: name 'data' is not defined"
     ]
    }
   ],
   "source": [
    "for batch in data.train:\n",
    "    break\n",
    "\n",
    "for key in batch.keys():\n",
    "    if key != 'meta':\n",
    "        print('{}: {}'.format(key, batch[key].shape))\n",
    "\n",
    "pose = batch['pose/data']\n",
    "pose = pose.reshape(pose.shape[0], pose.shape[1], 2, -1)\n",
    "print(pose.shape)\n",
    "\n",
    "print('first pose: ', pose[0, 0, :, :])"
   ]
  },
  {
   "cell_type": "code",
   "execution_count": null,
   "metadata": {},
   "outputs": [],
   "source": [
    "device = torch.device(\"cuda:0\" if torch.cuda.is_available() else \"cpu\")\n",
    "cuda = True if torch.cuda.is_available() else False\n",
    "\n",
    "# Loss function\n",
    "motion_regloss = torch.nn.L1Loss()\n",
    "g_loss = torch.nn.MSELoss()\n",
    "d_loss1 = torch.nn.MSELoss()\n",
    "d_loss2 = torch.nn.MSELoss()\n",
    "\n",
    "# Initialize generator and discriminator\n",
    "generator = Speech2Gesture_G()\n",
    "discriminator = Speech2Gesture_D()\n",
    "# generator.to(device)\n",
    "# discriminator.to(device)\n",
    "\n",
    "if cuda:\n",
    "    generator.cuda()\n",
    "    discriminator.cuda()\n",
    "    motion_regloss.cuda()\n",
    "    g_loss.cuda()\n",
    "    d_loss1.cuda()\n",
    "    d_loss2.cuda()\n",
    "    \n",
    "\n",
    "# Optimizers\n",
    "optimizer_G = torch.optim.Adam(generator.parameters(), lr=lr)\n",
    "optimizer_D = torch.optim.Adam(discriminator.parameters(), lr=lr)\n",
    "\n",
    "Tensor = torch.cuda.FloatTensor if cuda else torch.FloatTensor"
   ]
  },
  {
   "cell_type": "code",
   "execution_count": null,
   "metadata": {},
   "outputs": [],
   "source": [
    "# ----------\n",
    "#  Training\n",
    "# ----------\n",
    "\n",
    "for epoch in range(n_epochs):\n",
    "    for i, batch in enumerate(dataloader.train):\n",
    "\n",
    "        # Configure input\n",
    "        # audio = Variable(batch['audio/log_mel_512'].type(Tensor))\n",
    "        # real_pose = Variable(batch['pose/data'].type(Tensor))\n",
    "        audio = batch['audio/log_mel_512']\n",
    "        audio = audio.to(device)\n",
    "        audio = audio.type(torch.cuda.FloatTensor)\n",
    "        real_pose = batch['pose/data']\n",
    "        real_pose = real_pose.to(device)\n",
    "        real_pose = real_pose.type(torch.cuda.FloatTensor)\n",
    "\n",
    "        # Adversarial ground truths\n",
    "        valid = Variable(Tensor(real_pose.size(0), 12).fill_(1.0), requires_grad=False)\n",
    "        fake = Variable(Tensor(real_pose.size(0), 12).fill_(0.0), requires_grad=False)\n",
    "\n",
    "\n",
    "        # -----------------\n",
    "        #  Train Generator\n",
    "        # -----------------\n",
    "\n",
    "        optimizer_G.zero_grad()\n",
    "\n",
    "        # Using audio as generator input\n",
    "        fake_pose, _ = generator(audio)\n",
    "\n",
    "        # Generate motions\n",
    "        real_motion = pos_to_motion(real_pose)\n",
    "        fake_motion = pos_to_motion(fake_pose)\n",
    "\n",
    "        # discriminator\n",
    "        fake_d, _ = discriminator(fake_pose)\n",
    "        print('fake_d size: ', fake_d.size())\n",
    "\n",
    "        # Loss measures generator's ability to fool the discriminator\n",
    "        G_loss = motion_regloss(real_motion, fake_motion) + lambda_gan * g_loss(fake_d, valid)\n",
    "        # G_loss = motion_regloss(real_pose, fake_pose) + lambda_gan * g_loss(discriminator(fake_pose), valid)\n",
    "\n",
    "        G_loss.backward()\n",
    "        optimizer_G.step()\n",
    "\n",
    "        # ---------------------\n",
    "        #  Train Discriminator\n",
    "        # ---------------------\n",
    "\n",
    "        optimizer_D.zero_grad()\n",
    "\n",
    "        real_d, _ = discriminator(real_pose)\n",
    "        fake_d, _ = discriminator(fake_pose.detach())\n",
    "\n",
    "        # Measure discriminator's ability to classify real from generated samples\n",
    "        real_loss = d_loss1(real_d, valid)\n",
    "        fake_loss = d_loss2(fake_d, fake)\n",
    "        D_loss = real_loss + lambda_d * fake_loss\n",
    "\n",
    "        D_loss.backward()\n",
    "        optimizer_D.step()\n",
    "\n",
    "        if i % 200 == 199:\n",
    "            print(\n",
    "                \"[Epoch %d/%d] [Batch %d/%d] [D loss: %f] [G loss: %f]\"\n",
    "                % (epoch, n_epochs, i, len(dataloader), D_loss.item(), G_loss.item())\n",
    "            )\n",
    "\n",
    "print('saving generators')\n",
    "torch.save(generator.state_dict(), MODEL_PATH)\n",
    "print('saving discriminators')\n",
    "torch.save(discriminator.state_dict(), MODEL_PATH)"
   ]
  }
 ],
 "metadata": {
  "kernelspec": {
   "display_name": "myconda",
   "language": "python",
   "name": "myconda"
  },
  "language_info": {
   "codemirror_mode": {
    "name": "ipython",
    "version": 3
   },
   "file_extension": ".py",
   "mimetype": "text/x-python",
   "name": "python",
   "nbconvert_exporter": "python",
   "pygments_lexer": "ipython3",
   "version": "3.7.10"
  },
  "orig_nbformat": 4
 },
 "nbformat": 4,
 "nbformat_minor": 2
}
